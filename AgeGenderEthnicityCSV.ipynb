{
 "cells": [
  {
   "cell_type": "markdown",
   "metadata": {},
   "source": [
    "First we need to import used libraries:"
   ]
  },
  {
   "cell_type": "code",
   "execution_count": null,
   "metadata": {},
   "outputs": [],
   "source": [
    "import tensorflow as tf, pandas as pd, matplotlib.pyplot as plt, numpy as np, os\n",
    "from keras.models import Sequential\n",
    "from keras.layers import Conv2D, MaxPooling2D, Flatten, Dense, Dropout\n",
    "from sklearn.utils import shuffle\n",
    "from sklearn.model_selection import train_test_split"
   ]
  },
  {
   "cell_type": "markdown",
   "metadata": {},
   "source": [
    "Reading the file:"
   ]
  },
  {
   "cell_type": "code",
   "execution_count": null,
   "metadata": {},
   "outputs": [],
   "source": [
    "df = pd.read_csv(os.getcwd() + \"//datasets//age_gender.csv\")\n",
    "# we don't need to shuffle, I just wanted to check random elements\n",
    "df = shuffle(df)\n",
    "df.head()"
   ]
  },
  {
   "cell_type": "markdown",
   "metadata": {},
   "source": [
    "Checking if there are any null values:"
   ]
  },
  {
   "cell_type": "code",
   "execution_count": null,
   "metadata": {},
   "outputs": [],
   "source": [
    "print(df.isnull().sum())"
   ]
  },
  {
   "cell_type": "markdown",
   "metadata": {},
   "source": [
    "First split each pixel value and convert to float, only then we can normalize values of pixels from 0 - 255 to 0 - 1:"
   ]
  },
  {
   "cell_type": "code",
   "execution_count": null,
   "metadata": {},
   "outputs": [],
   "source": [
    "df['pixels'] = df['pixels'].apply(lambda x: np.array(x.split(), dtype = \"float32\"))\n",
    "df['pixels'] = df['pixels'].apply(lambda x: x / 255)\n",
    "df.head()"
   ]
  },
  {
   "cell_type": "markdown",
   "metadata": {},
   "source": [
    "Display some exemplary images:"
   ]
  },
  {
   "cell_type": "code",
   "execution_count": null,
   "metadata": {},
   "outputs": [],
   "source": [
    "# size of the whole grid of images\n",
    "plt.figure(figsize=(10, 10))\n",
    "\n",
    "# display first 25 images in a 5x5 grid\n",
    "for i in range(0, 25):\n",
    "    plt.subplot(5, 5, (i % 25) + 1)\n",
    "    plt.grid(False)\n",
    "    #disable x and y axis description\n",
    "    plt.xticks([])\n",
    "    plt.yticks([])\n",
    "    # each image is builds from 48 x 48 pixels\n",
    "    plt.imshow(df['pixels'].iloc[i].reshape(48,48), cmap='gray')\n",
    "    # could app mapping that if G = 0 then male, = 1 then female and similar with ethnicity\n",
    "    # A = age, G = gender, E = ethnicity\n",
    "    plt.xlabel(\"A: \"+ str(df['age'].iloc[i])+ \" G: \" + str(df['gender'].iloc[i])+ \" E: \" + str(df['ethnicity'].iloc[i]))\n",
    "plt.show()"
   ]
  },
  {
   "cell_type": "markdown",
   "metadata": {},
   "source": [
    "We need to reshape pixels for convolution:"
   ]
  },
  {
   "cell_type": "code",
   "execution_count": null,
   "metadata": {},
   "outputs": [],
   "source": [
    "x = np.array(df['pixels'].tolist())\n",
    "# x.shape[0] = 23705, those are number of entries in db file, last argument is 1 if greyscale, 3 if rgb images\n",
    "x = x.reshape(x.shape[0], 48, 48, 1)"
   ]
  },
  {
   "cell_type": "markdown",
   "metadata": {},
   "source": [
    "Prepare y values:"
   ]
  },
  {
   "cell_type": "code",
   "execution_count": null,
   "metadata": {},
   "outputs": [],
   "source": [
    "y_age = np.array(df['age'])\n",
    "y_ethnicity = np.array(df['ethnicity'])\n",
    "y_gender = np.array(df['gender'])"
   ]
  },
  {
   "cell_type": "markdown",
   "metadata": {},
   "source": [
    "Split data into training and testing sets for each of the models (age, ethnicity and gender):"
   ]
  },
  {
   "cell_type": "code",
   "execution_count": null,
   "metadata": {},
   "outputs": [],
   "source": [
    "seed = 100\n",
    "x_train_age, x_test_age, y_train_age, y_test_age = train_test_split(x, y_age, test_size = 0.2, random_state = seed)\n",
    "x_train_ethnicity, x_test_ethnicity, y_train_ethnicity, y_test_ethnicity = train_test_split(x, y_ethnicity, test_size = 0.2, random_state = seed)\n",
    "x_train_gender, x_test_gender, y_train_gender, y_test_gender = train_test_split(x, y_gender, test_size = 0.2, random_state = seed)"
   ]
  },
  {
   "cell_type": "markdown",
   "metadata": {},
   "source": [
    "## Age prediction\n",
    "Build the model:"
   ]
  },
  {
   "cell_type": "code",
   "execution_count": null,
   "metadata": {},
   "outputs": [],
   "source": [
    "age_model = Sequential()\n",
    "\n",
    "age_model.add(Conv2D(16, kernel_size = (3, 3), strides = 1, input_shape = x.shape[1:], padding = \"same\", activation = 'relu'))\n",
    "age_model.add(MaxPooling2D(pool_size = (2,2)))\n",
    "\n",
    "age_model.add(Conv2D(32, kernel_size = (3, 3), strides = 1, padding = \"same\", activation = 'relu'))\n",
    "age_model.add(MaxPooling2D(pool_size = (2,2)))\n",
    "\n",
    "age_model.add(Conv2D(64, kernel_size = (3, 3), strides = 1, padding = \"same\", activation = 'relu'))\n",
    "age_model.add(MaxPooling2D(pool_size = (2,2)))\n",
    "\n",
    "age_model.add(Flatten())\n",
    "\n",
    "age_model.add(Dense(128, activation = 'relu'))\n",
    "age_model.add(Dropout(0.3))\n",
    "age_model.add(Dense(1, activation = 'softmax')) # sigmoid\n",
    "\n",
    "# check different optimizers and loss functions 'binary_crossentropy'\n",
    "age_model.compile(optimizer = 'adam', loss = 'mse', metrics = ['accuracy'])\n",
    "# age_model.summary()"
   ]
  },
  {
   "cell_type": "markdown",
   "metadata": {},
   "source": [
    "Training:"
   ]
  },
  {
   "cell_type": "code",
   "execution_count": null,
   "metadata": {},
   "outputs": [],
   "source": [
    "age_history = age_model.fit(x_train_age, y_train_age, epochs = 20, validation_data = (x_test_age, y_test_age))"
   ]
  },
  {
   "cell_type": "markdown",
   "metadata": {},
   "source": [
    "Testing:"
   ]
  },
  {
   "cell_type": "code",
   "execution_count": null,
   "metadata": {},
   "outputs": [],
   "source": [
    "val_loss, val_acc = age_model.evaluate(x_test_age, y_test_age)"
   ]
  },
  {
   "cell_type": "code",
   "execution_count": null,
   "metadata": {},
   "outputs": [],
   "source": [
    "acc = np.array(age_history.history['accuracy'])\n",
    "val_acc = np.array(age_history.history['val_accuracy'])\n",
    "epochs = range(len(acc))\n",
    "\n",
    "plt.plot(epochs, acc, 'b', label='Training Accuracy')\n",
    "plt.plot(epochs, val_acc, 'r', label='Validation Accuracy')\n",
    "plt.title('Accuracy Graph')\n",
    "plt.legend()"
   ]
  }
 ],
 "metadata": {
  "kernelspec": {
   "display_name": "Python 3.10.5 64-bit",
   "language": "python",
   "name": "python3"
  },
  "language_info": {
   "codemirror_mode": {
    "name": "ipython",
    "version": 3
   },
   "file_extension": ".py",
   "mimetype": "text/x-python",
   "name": "python",
   "nbconvert_exporter": "python",
   "pygments_lexer": "ipython3",
   "version": "3.10.5"
  },
  "orig_nbformat": 4,
  "vscode": {
   "interpreter": {
    "hash": "52634da84371cba311ea128a5ea7cdc41ff074b781779e754b270ff9f8153cee"
   }
  }
 },
 "nbformat": 4,
 "nbformat_minor": 2
}
