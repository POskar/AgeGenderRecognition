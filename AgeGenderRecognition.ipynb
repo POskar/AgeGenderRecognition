{
 "cells": [
  {
   "cell_type": "markdown",
   "metadata": {},
   "source": [
    "First we need to import used libraries:"
   ]
  },
  {
   "cell_type": "code",
   "execution_count": null,
   "metadata": {},
   "outputs": [],
   "source": [
    "import tensorflow as tf, pandas as pd, matplotlib.pyplot as plt, numpy as np, os\n",
    "from keras.models import Sequential, Model\n",
    "from keras.layers import Conv2D, MaxPooling2D, Flatten, Dense, Dropout, Input\n",
    "from keras.utils import load_img, plot_model\n",
    "from sklearn.utils import shuffle\n",
    "from sklearn.model_selection import train_test_split"
   ]
  },
  {
   "cell_type": "markdown",
   "metadata": {},
   "source": [
    "Prepare data from each dataset so that we end up with normalized pixels and labels:"
   ]
  },
  {
   "cell_type": "code",
   "execution_count": null,
   "metadata": {},
   "outputs": [],
   "source": [
    "def prepare_data(choice):\n",
    "    match choice:\n",
    "        case 1:\n",
    "            df = pd.read_csv(os.getcwd() + \"//datasets//age_gender.csv\")\n",
    "            df = shuffle(df)\n",
    "\n",
    "            # image size originally is 48\n",
    "            img_size = 48\n",
    "\n",
    "            # First split each pixel value and convert to float, only then we can normalize values of pixels from 0 - 255 to 0 - 1:\n",
    "            df['pixels'] = df['pixels'].apply(lambda x: np.array(x.split(), dtype = \"float32\"))\n",
    "            df['pixels'] = df['pixels'].apply(lambda x: x / 255)\n",
    "\n",
    "            x = np.array(df['pixels'].tolist())\n",
    "            # x.shape[0] = 23705, those are number of entries in db file, last argument is 1 if greyscale, 3 if rgb images\n",
    "            x = x.reshape(x.shape[0], img_size, img_size, 1)\n",
    "\n",
    "            y_age = np.array(df['age'])\n",
    "            y_ethnicity = np.array(df['ethnicity'])\n",
    "            y_age = np.array(df['gender'])\n",
    "            return x, y_age, y_age, y_ethnicity, img_size\n",
    "        case 2:\n",
    "            directory = os.getcwd() + '//datasets//UTKFace//'\n",
    "\n",
    "            # image size originally is 200\n",
    "            img_size = 200\n",
    "            \n",
    "            # lists for storing labels\n",
    "            image_paths = []\n",
    "            age_labels = []\n",
    "            gender_labels = []\n",
    "\n",
    "            for filename in os.listdir(directory):\n",
    "                image_path = os.path.join(directory, filename)\n",
    "                temp = filename.split('_')\n",
    "                age = int(temp[0])\n",
    "                gender = int(temp[1])\n",
    "                image_paths.append(image_path)\n",
    "                age_labels.append(age)\n",
    "                gender_labels.append(gender)\n",
    "\n",
    "            df = pd.DataFrame()\n",
    "            df['image'], df['age'], df['gender'] = image_paths, age_labels, gender_labels\n",
    "\n",
    "            x = []\n",
    "            for image in df['image']:\n",
    "                    img = load_img(image, color_mode = \"grayscale\")\n",
    "                    img = img.resize((img_size, img_size), 3)\n",
    "                    img = np.array(img)\n",
    "                    x.append(img)\n",
    "\n",
    "            x = np.array(x)\n",
    "            x = x.reshape(len(x), img_size, img_size, 1)\n",
    "            x = x/255.0\n",
    "\n",
    "            y_age = np.array(df['gender'])\n",
    "            y_age = np.array(df['age'])\n",
    "            if 'ethnicity' in df.columns:\n",
    "                y_ethnicity = np.array(df['ethnicity'])\n",
    "            else:\n",
    "                y_ethnicity = np.empty(0)\n",
    "            return x, y_age, y_age, y_ethnicity, img_size\n",
    "        case 3:\n",
    "            directory = os.getcwd() + '//datasets//Fairface//val'\n",
    "\n",
    "            # image size originally is 224\n",
    "            img_size = 224\n",
    "            \n",
    "            x = []\n",
    "\n",
    "            for filename in os.listdir(directory):\n",
    "                image_path = os.path.join(directory, filename)\n",
    "                img = load_img(image_path, color_mode = \"grayscale\")\n",
    "                img = img.resize((img_size, img_size), 3)\n",
    "                img = np.array(img)\n",
    "                x.append(img)\n",
    "\n",
    "            x = np.array(x)\n",
    "            x = x.reshape(len(x), img_size, img_size, 1)\n",
    "            x = x/255.0\n",
    "\n",
    "            df = pd.read_csv(os.getcwd() + \"//datasets//Fairface//fairface_label_val.csv\")\n",
    "            y_age = []\n",
    "            y_gender = []\n",
    "            y_ethnicity = [] \n",
    "\n",
    "            for entry in np.array(df['age']):\n",
    "                if entry == '0-2':\n",
    "                    y_age.append(0)\n",
    "                elif entry == '3-9':\n",
    "                    y_age.append(1)\n",
    "                elif entry == '10-19':\n",
    "                    y_age.append(2)\n",
    "                elif entry == '20-29':\n",
    "                    y_age.append(3)\n",
    "                elif entry == '30-39':\n",
    "                    y_age.append(4)\n",
    "                elif entry == '40-49':\n",
    "                    y_age.append(5)\n",
    "                elif entry == '50-59':\n",
    "                    y_age.append(6)\n",
    "                elif entry == '60-69':\n",
    "                    y_age.append(7)\n",
    "                elif entry == 'more than 70':\n",
    "                    y_age.append(8)\n",
    "\n",
    "            for entry in np.array(df['gender']):\n",
    "                if entry == \"Male\":\n",
    "                    y_gender.append(0)\n",
    "                elif entry == \"Female\":\n",
    "                    y_gender.append(1)\n",
    "\n",
    "            for entry in np.array(df['race']):\n",
    "                if entry == \"White\":\n",
    "                    y_ethnicity.append(0)\n",
    "                elif entry == \"Black\":\n",
    "                    y_ethnicity.append(1)\n",
    "                elif entry == \"Latino_Hispanic\":\n",
    "                    y_ethnicity.append(2)\n",
    "                elif entry == \"East\":\n",
    "                    y_ethnicity.append(3)\n",
    "                elif entry == \"Southeast Asian\":\n",
    "                    y_ethnicity.append(4)\n",
    "                elif entry == \"Indian\":\n",
    "                    y_ethnicity.append(5)\n",
    "                elif entry == \"Middle Eastern\":\n",
    "                    y_ethnicity.append(6)\n",
    "\n",
    "            y_age = np.array(y_age)\n",
    "            y_gender = np.array(y_gender)\n",
    "            y_ethnicity = np.array(y_ethnicity)\n",
    "\n",
    "            return x, y_age, y_age, y_ethnicity, img_size\n",
    "        case _:\n",
    "            return 0,0,0,0,0"
   ]
  },
  {
   "cell_type": "markdown",
   "metadata": {},
   "source": [
    "First, we pick the dataset that we would like to use from:\n",
    "<br>1 - Age, gender, ethnicity CSV\n",
    "<br>2 - UTKFace\n",
    "<br>3 - Fairface"
   ]
  },
  {
   "cell_type": "code",
   "execution_count": null,
   "metadata": {},
   "outputs": [],
   "source": [
    "choice = 3"
   ]
  },
  {
   "cell_type": "code",
   "execution_count": null,
   "metadata": {},
   "outputs": [],
   "source": [
    "x, y_age, y_gender, y_ethnicity, img_size = prepare_data(choice = choice)"
   ]
  },
  {
   "cell_type": "markdown",
   "metadata": {},
   "source": [
    "Display some exemplary images:"
   ]
  },
  {
   "cell_type": "code",
   "execution_count": null,
   "metadata": {},
   "outputs": [],
   "source": [
    "# size of the whole grid of images\n",
    "plt.figure(figsize=(10, 10))\n",
    "\n",
    "# display first 25 images in a 5x5 grid\n",
    "for i in range(0, 25):\n",
    "    plt.subplot(5, 5, (i % 25) + 1)\n",
    "    plt.grid(False)\n",
    "    #disable x and y axis description\n",
    "    plt.xticks([])\n",
    "    plt.yticks([])\n",
    "    plt.imshow(x[i].reshape(img_size, img_size), cmap='gray')\n",
    "    # A = age, G = gender, E = ethnicity\n",
    "    plt.xlabel(\"A: \"+ str(y_age[i]) + \" G: \" + str(y_gender[i]) + (\" E: \" + str(y_ethnicity[i]) if y_ethnicity.size > 0 else \"\"))\n",
    "plt.show()"
   ]
  },
  {
   "cell_type": "markdown",
   "metadata": {},
   "source": [
    "## [1] Age and Gender Prediction From Face Images Using Attentional Convolutional Network"
   ]
  },
  {
   "cell_type": "markdown",
   "metadata": {},
   "source": [
    "<img src=\"images/[1]Attentional Convolutional Network.png\"> <br>\n",
    "https://arxiv.org/pdf/2010.03791.pdf"
   ]
  },
  {
   "cell_type": "code",
   "execution_count": null,
   "metadata": {},
   "outputs": [],
   "source": [
    "inputs = Input((img_size, img_size, 1))\n",
    "\n",
    "#instead of building model the classical way, we can add to separate hidden layers which would check for both age and gender and then pass to individual output layers\n",
    "layer = Conv2D(32, kernel_size = (3, 3), strides = 1, padding = \"same\", activation = 'relu') (inputs)\n",
    "layer = MaxPooling2D(pool_size = (2, 2)) (layer)\n",
    "\n",
    "layer = Conv2D(64, kernel_size = (3, 3), strides = 1, padding = \"same\", activation = 'relu') (layer)\n",
    "layer = MaxPooling2D(pool_size = (2, 2)) (layer)\n",
    "\n",
    "layer = Conv2D(128, kernel_size = (3, 3), strides = 1, padding = \"same\", activation = 'relu') (layer)\n",
    "layer = MaxPooling2D(pool_size = (2, 2)) (layer)\n",
    "\n",
    "layer = Conv2D(256, kernel_size = (3, 3), strides = 1, padding = \"same\", activation = 'relu') (layer)\n",
    "layer = MaxPooling2D(pool_size = (2, 2)) (layer)\n",
    "\n",
    "layer = Flatten() (layer)\n",
    "\n",
    "Dense_1 = Dense(256, activation='relu') (layer)\n",
    "Dense_2 = Dense(256, activation='relu') (layer)\n",
    "\n",
    "Dropout_1 = Dropout(0.3) (Dense_1)\n",
    "Dropout_2 = Dropout(0.3) (Dense_2)\n",
    "\n",
    "Dense_output_1 = Dense(1, activation='softmax', name='gender_out') (Dropout_1)\n",
    "Dense_output_2 = Dense(1, activation='softmax', name='age_out') (Dropout_2)\n",
    "\n",
    "model = Model(inputs = [inputs], outputs = [Dense_output_1, Dense_output_2])\n",
    "\n",
    "model.compile(loss = ['binary_crossentropy', 'mae'], optimizer = 'adam', metrics = ['accuracy'])"
   ]
  },
  {
   "cell_type": "code",
   "execution_count": null,
   "metadata": {},
   "outputs": [],
   "source": [
    "# change name of plotted model to dynamic variable based on network implemented from referenced papers e.g. 1_model.png, or abbreviation_model.png \n",
    "plot_model(model = model, to_file = os.getcwd() + '//images//model.png', show_layer_names = False)"
   ]
  },
  {
   "cell_type": "markdown",
   "metadata": {},
   "source": [
    "Training:"
   ]
  },
  {
   "cell_type": "code",
   "execution_count": null,
   "metadata": {},
   "outputs": [],
   "source": [
    "# we might use validation_split or we can divide sets as before which allows for reproducibility:\n",
    "# seed = 100\n",
    "# x_train_age, x_test_age, y_train_age, y_test_age = train_test_split(x, y_age, test_size = 0.2, random_state = seed)\n",
    "# x_train_ethnicity, x_test_ethnicity, y_train_ethnicity, y_test_ethnicity = train_test_split(x, y_ethnicity, test_size = 0.2, random_state = seed)\n",
    "\n",
    "history = model.fit(x, [y_age, y_gender] , epochs = 10, validation_split = 0.01) "
   ]
  },
  {
   "cell_type": "code",
   "execution_count": null,
   "metadata": {},
   "outputs": [],
   "source": [
    "acc = np.array(history.history['age_out_accuracy'])\n",
    "val_acc = np.array(history.history['val_age_out_accuracy'])\n",
    "epochs = range(len(acc))\n",
    "\n",
    "plt.plot(epochs, acc, 'b', label='Training Accuracy')\n",
    "plt.plot(epochs, val_acc, 'r', label='Validation Accuracy')\n",
    "plt.title('Accuracy Graph')\n",
    "plt.legend()"
   ]
  }
 ],
 "metadata": {
  "kernelspec": {
   "display_name": "Python 3.10.5 64-bit",
   "language": "python",
   "name": "python3"
  },
  "language_info": {
   "codemirror_mode": {
    "name": "ipython",
    "version": 3
   },
   "file_extension": ".py",
   "mimetype": "text/x-python",
   "name": "python",
   "nbconvert_exporter": "python",
   "pygments_lexer": "ipython3",
   "version": "3.10.5"
  },
  "orig_nbformat": 4,
  "vscode": {
   "interpreter": {
    "hash": "52634da84371cba311ea128a5ea7cdc41ff074b781779e754b270ff9f8153cee"
   }
  }
 },
 "nbformat": 4,
 "nbformat_minor": 2
}
